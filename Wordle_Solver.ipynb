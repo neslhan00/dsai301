{
  "nbformat": 4,
  "nbformat_minor": 0,
  "metadata": {
    "colab": {
      "provenance": [],
      "authorship_tag": "ABX9TyMvhquTCn5vNWt1DblkC77V",
      "include_colab_link": true
    },
    "kernelspec": {
      "name": "python3",
      "display_name": "Python 3"
    },
    "language_info": {
      "name": "python"
    }
  },
  "cells": [
    {
      "cell_type": "markdown",
      "metadata": {
        "id": "view-in-github",
        "colab_type": "text"
      },
      "source": [
        "<a href=\"https://colab.research.google.com/github/neslhan00/dsai301/blob/main/Wordle_Solver.ipynb\" target=\"_parent\"><img src=\"https://colab.research.google.com/assets/colab-badge.svg\" alt=\"Open In Colab\"/></a>"
      ]
    },
    {
      "cell_type": "markdown",
      "source": [
        "Neslihan Gül - November 2024"
      ],
      "metadata": {
        "id": "rQLuEm2K_-Gs"
      }
    },
    {
      "cell_type": "markdown",
      "source": [
        "Wordle Solver Project\n",
        "\n",
        "My goal in this project was to use algorithmic techniques and data analysis to solve Wordle as efficiently as possible.\n",
        "I took a methodical approach to this issue, first dissecting the structure of the game, then applying logical filters, and lastly setting the plan through iterative testing."
      ],
      "metadata": {
        "id": "U4_C4uFDDxy_"
      }
    },
    {
      "cell_type": "code",
      "execution_count": 2,
      "metadata": {
        "id": "Jk_tl4-Y_uBJ"
      },
      "outputs": [],
      "source": [
        "# I imported necessary libraries.\n",
        "import requests\n",
        "import random\n",
        "import time"
      ]
    },
    {
      "cell_type": "code",
      "source": [
        "def download_file_from_drive(file_url, colab_path): #Downloads a file from Google Drive and saves it locally in Google Colab. Used to fetch the word list for the Wordle solver.\n",
        "    if \"drive.google.com\" in file_url:\n",
        "        file_id = file_url.split('/d/')[1].split('/')[0]\n",
        "        download_url = f\"https://drive.google.com/uc?export=download&id={file_id}\"\n",
        "    else:\n",
        "        raise ValueError(\"The provided URL is not a valid Google Drive link.\")\n",
        "\n",
        "    response = requests.get(download_url, stream=True)\n",
        "\n",
        "    if response.status_code == 200:\n",
        "        with open(colab_path, 'wb') as file:\n",
        "            for chunk in response.iter_content(chunk_size=1024):\n",
        "                if chunk:\n",
        "                    file.write(chunk)\n",
        "        print(f\"File successfully downloaded to {colab_path}\")\n",
        "    else:\n",
        "        raise Exception(\"Failed to download the file. Check the URL or file permissions.\")\n",
        "\n",
        "colab_path = \"/content/words.txt\"\n",
        "file_url = \"https://drive.google.com/file/d/1cjCZ-5uAHVFLXLV6HuSM98_QblWaXrBZ/view?usp=share_link\"\n",
        "download_file_from_drive(file_url,colab_path)\n",
        "\n",
        "WORDLIST_FILENAME = \"words.txt\"\n",
        "\n",
        "def load_words():   #Reads words from a file and returns them as a list.\n",
        "\n",
        "  inFile = open(WORDLIST_FILENAME, 'r')\n",
        "  line = inFile.readline()\n",
        "  wordlist = line.split()\n",
        "  print(\"  \", len(wordlist), \"words loaded.\")\n",
        "  return wordlist\n",
        "\n",
        "\n",
        "\n",
        "\n",
        "def word_select(word_list):   #Randomly selects a word from the word list.\n",
        "  return random.choice(word_list)"
      ],
      "metadata": {
        "colab": {
          "base_uri": "https://localhost:8080/"
        },
        "id": "VlYbjTI8Co97",
        "outputId": "b21c4352-7e2e-4b08-bb7a-90872910988b"
      },
      "execution_count": 3,
      "outputs": [
        {
          "output_type": "stream",
          "name": "stdout",
          "text": [
            "File successfully downloaded to /content/words.txt\n"
          ]
        }
      ]
    },
    {
      "cell_type": "code",
      "source": [
        "# Helper functions\n",
        "\n",
        "def updatelist1(list1,letter):    #Adds a letter to the list of incorrect guesses.\n",
        "  if letter not in list1:  # Ensures the letter is not added multiple times\n",
        "    list1.append(letter)\n",
        "  return list1\n",
        "\n",
        "def updatelist2(list2,update):   #Updates the list of correct letters in the correct position.\n",
        "  for item in list2:\n",
        "    if item[0]==update[0]:\n",
        "      return list2\n",
        "  list2.append(update)\n",
        "  return list2\n",
        "\n",
        "def updatelist3(list3,update):   #Updates the list of correct letters in the wrong position.\n",
        "  for item in list3:\n",
        "    if item[0]==update[0]:\n",
        "      if update[1] not in item[1]:\n",
        "        item[1].append(update[1][0])\n",
        "        return list3\n",
        "      return list3\n",
        "  list3.append(update)\n",
        "  return list3\n",
        "\n",
        "def cleanwordlist(word_list,secretword):   #Filters words to match the length of the secret word.\n",
        "  for word in word_list[:]:\n",
        "    if len(word)!=len(secretword):\n",
        "      word_list.remove(word)\n",
        "  return word_list\n",
        "\n",
        "\n",
        "\n",
        "\n",
        "  \"\"\"\n",
        "  Wordle function:\n",
        "  Compares a guess to the secret word and categorizes letters into three lists:\n",
        "  - list1: Incorrect letters\n",
        "  - list2: Correct letters in the correct position\n",
        "  - list3: Correct letters in the wrong position\n",
        "  \"\"\"\n",
        "def wordle(guess, secretword):\n",
        "\n",
        "  list1=[]\n",
        "  list2=[]\n",
        "  list3=[]\n",
        "  iscorrect=False\n",
        "  if guess==secretword:\n",
        "    bildimi=True   # Checks if the guess is correct\n",
        "    return list1,list2,list3,bildimi\n",
        "  for index in range(len(guess)):\n",
        "    if guess[index]==secretword[index]:\n",
        "      list2 = updatelist2(list2,[guess[index],index])  # Correct letter in correct position\n",
        "    elif guess[index] not in secretword:\n",
        "      list1=updatelist1(list1,guess[index])  # Letter is not in the word\n",
        "    elif guess[index] in secretword:\n",
        "      list3=updatelist3(list3,[guess[index],[index]])  # Correct letter in wrong position\n",
        "  return list1,list2,list3,iscorrect\n",
        "\n",
        "\n",
        "def generate_guess(list1,list2,list3,wordlist):   # Generates the next AI guess by eliminating impossible words.\n",
        "  for word in wordlist[:]:\n",
        "    for letter in list1:\n",
        "      if letter in word:\n",
        "        wordlist.remove(word)\n",
        "        break\n",
        "    if word  not in wordlist:\n",
        "      continue\n",
        "    for item in list2:\n",
        "      if word[item[1]]!=item[0]:\n",
        "        wordlist.remove(word)\n",
        "        break\n",
        "    if word  not in wordlist:\n",
        "      continue\n",
        "    for item in list3:\n",
        "      if item[0] not in word:\n",
        "        wordlist.remove(word)\n",
        "        break\n",
        "    if word  not in wordlist:\n",
        "      continue\n",
        "    for item in list3:\n",
        "      for index in item[1]:\n",
        "        if word[index]==item[0]:\n",
        "          wordlist.remove(word)\n",
        "          break\n",
        "      if word not in wordlist:\n",
        "        break\n",
        "  guess=random.choice(wordlist)\n",
        "  return guess\n",
        "\n",
        "\n",
        "\n",
        "def optimize_wordle():   # Runs the AI Wordle solver until the correct word is found.\n",
        "  word_list=load_words()\n",
        "  secretword=word_select(word_list)\n",
        "  print(f\"Secretword is :{secretword}\\nComputer will try to find this word...\")\n",
        "  word_list=cleanwordlist(word_list,secretword)\n",
        "  list1=[]\n",
        "  list2=[]\n",
        "  list3=[]\n",
        "  guesses=[]\n",
        "  while True:\n",
        "    guess=generate_guess(list1,list2,list3,word_list)  # AI makes a guess\n",
        "    guesses.append(guess)\n",
        "    print(f\"Computer's guess is: {guess}\")\n",
        "    list1,list2,list3,iscorrect=wordle(guess,secretword)\n",
        "    time.sleep(2)  # Adds delay for readability\n",
        "    if iscorrect:\n",
        "      print(f\"The computer guessed the word in {len(guesses)} attempts.\\nList of the computer's guesses:{guesses}\")\n",
        "      break\n",
        "    if secretword not in word_list:\n",
        "      print(guesses)\n",
        "      print(\"Word couldn't find.\")\n",
        "      break"
      ],
      "metadata": {
        "id": "Q6c0g7dSCuZJ"
      },
      "execution_count": 4,
      "outputs": []
    },
    {
      "cell_type": "code",
      "source": [
        "optimize_wordle()"
      ],
      "metadata": {
        "colab": {
          "base_uri": "https://localhost:8080/"
        },
        "id": "3sr-WRMFCw6G",
        "outputId": "7a62a3ff-4dc9-4dd5-f4ca-b85c2cf5cc65"
      },
      "execution_count": 5,
      "outputs": [
        {
          "output_type": "stream",
          "name": "stdout",
          "text": [
            "   55900 words loaded.\n",
            "Secretword is :philosophy\n",
            "Computer will try to find this word...\n",
            "Computer's guess is: billboards\n",
            "Computer's guess is: philosophy\n",
            "The computer guessed the word in 2 attempts.\n",
            "List of the computer's guesses:['billboards', 'philosophy']\n"
          ]
        }
      ]
    }
  ]
}