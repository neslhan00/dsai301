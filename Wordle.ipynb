{
  "nbformat": 4,
  "nbformat_minor": 0,
  "metadata": {
    "colab": {
      "provenance": [],
      "authorship_tag": "ABX9TyNbNCTjH5bAra/VsqKJAg0T",
      "include_colab_link": true
    },
    "kernelspec": {
      "name": "python3",
      "display_name": "Python 3"
    },
    "language_info": {
      "name": "python"
    }
  },
  "cells": [
    {
      "cell_type": "markdown",
      "metadata": {
        "id": "view-in-github",
        "colab_type": "text"
      },
      "source": [
        "<a href=\"https://colab.research.google.com/github/neslhan00/dsai301/blob/main/Wordle.ipynb\" target=\"_parent\"><img src=\"https://colab.research.google.com/assets/colab-badge.svg\" alt=\"Open In Colab\"/></a>"
      ]
    },
    {
      "cell_type": "markdown",
      "source": [
        "Neslihan Gül - November 2024"
      ],
      "metadata": {
        "id": "CvuHGbHoPYro"
      }
    },
    {
      "cell_type": "markdown",
      "source": [
        "Wordle Project\n",
        "\n",
        "This project is an implementation of the Wordle game, where the computer selects a secret word,\n",
        "and the player tries to guess it within a limited number of attempts. The program provides feedback\n",
        "on each guess, indicating which letters are correct and in the right place (green), which are in the word\n",
        "but in the wrong place (yellow), and which are not in the word at all.\n",
        "\n",
        "To make this project more interactive, I used a word list from a Google Drive file and implemented\n",
        "colorful feedback in Jupyter Notebook using HTML."
      ],
      "metadata": {
        "id": "5LTg7dUqPaBF"
      }
    },
    {
      "cell_type": "code",
      "source": [
        "# Imports\n",
        "from IPython.display import HTML, display\n",
        "import requests\n",
        "import random\n",
        "import time"
      ],
      "metadata": {
        "id": "4XzOt18mPZrv"
      },
      "execution_count": 8,
      "outputs": []
    },
    {
      "cell_type": "code",
      "execution_count": 3,
      "metadata": {
        "colab": {
          "base_uri": "https://localhost:8080/"
        },
        "id": "hl6iVlcRPSf7",
        "outputId": "7ae9a086-c0f4-4ef4-e5f3-cca34afe57f8"
      },
      "outputs": [
        {
          "output_type": "stream",
          "name": "stdout",
          "text": [
            "File successfully downloaded to /content/words.txt\n"
          ]
        }
      ],
      "source": [
        "#Helper functions:\n",
        "\n",
        "# Helper class to colorize the output in Jupyter Notebook\n",
        "class ColorString:\n",
        "    def __init__(self, text=\"\"):\n",
        "        self.parts = []\n",
        "        if text:\n",
        "            self.parts.append(f'<span>{text}</span> ')\n",
        "\n",
        "    def add_text(self, text):\n",
        "        self.parts.append(f'<span>{text}</span> ')\n",
        "\n",
        "    def add_yellow(self, text):\n",
        "        self.parts.append(f'<span style=\"color:gold;\">{text}</span> ')\n",
        "\n",
        "    def add_green(self, text):\n",
        "        self.parts.append(f'<span style=\"color:green;\">{text}</span> ')\n",
        "\n",
        "    def __str__(self):\n",
        "        \"\"\"\n",
        "\n",
        "        Returns the text as a plain string without formatting.\n",
        "\n",
        "        \"\"\"\n",
        "        return \"\".join(part.strip('<span>').strip('</span>') for part in self.parts)\n",
        "\n",
        "    def _repr_html_(self):\n",
        "        \"\"\"\n",
        "        Displays formatted output in Jupyter Notebook.\n",
        "        \"\"\"\n",
        "        return \"\".join(self.parts)\n",
        "\n",
        "# I wrote this function to print the guessed word with color-coded feedback\n",
        "def print_secret_word(guess,secretWord):\n",
        "    printword=ColorString('')\n",
        "    for letter in range(len(guess)):\n",
        "        if guess[letter] not in secretWord:\n",
        "            printword.add_text(guess[letter])\n",
        "        elif guess[letter]!=secretWord[letter]:\n",
        "            printword.add_yellow(guess[letter])\n",
        "        else:\n",
        "            printword.add_green(guess[letter])\n",
        "    display(printword)\n",
        "\n",
        "\n",
        "#  I downloaded a word list file from Google Drive\n",
        "def download_file_from_drive(file_url, colab_path):\n",
        "    if \"drive.google.com\" in file_url:\n",
        "        file_id = file_url.split('/d/')[1].split('/')[0]\n",
        "        download_url = f\"https://drive.google.com/uc?export=download&id={file_id}\"\n",
        "    else:\n",
        "        raise ValueError(\"The provided URL is not a valid Google Drive link.\")\n",
        "\n",
        "    response = requests.get(download_url, stream=True)\n",
        "\n",
        "    if response.status_code == 200:\n",
        "        with open(colab_path, 'wb') as file:\n",
        "            for chunk in response.iter_content(chunk_size=1024):\n",
        "                if chunk:\n",
        "                    file.write(chunk)\n",
        "        print(f\"File successfully downloaded to {colab_path}\")\n",
        "    else:\n",
        "        raise Exception(\"Failed to download the file. Check the URL or file permissions.\")\n",
        "\n",
        "colab_path = \"/content/words.txt\"\n",
        "file_url = \"https://drive.google.com/file/d/1cjCZ-5uAHVFLXLV6HuSM98_QblWaXrBZ/view?usp=share_link\"\n",
        "download_file_from_drive(file_url,colab_path)\n",
        "\n",
        "\n",
        "# I loaded words from the downloaded file\n",
        "WORDLIST_FILENAME = \"words.txt\"\n",
        "\n",
        "def load_words():\n",
        "\n",
        "  inFile = open(WORDLIST_FILENAME, 'r')\n",
        "  line = inFile.readline()\n",
        "  wordlist = line.split()  # Split into a list of words\n",
        "  print(\"  \", len(wordlist), \"words loaded.\")\n",
        "  return wordlist\n",
        "\n",
        "\n",
        "\n",
        "\n",
        "def word_select():\n",
        "  #This function returns a random word from the word lists\n",
        "  return random.choice(word_list)\n"
      ]
    },
    {
      "cell_type": "code",
      "source": [
        "\n",
        "word_list=load_words()\n",
        "#Here is word_list, the list containing all English words. I will use it with this name.\n",
        "egword = word_select()  # Select a random word for testing\n",
        "print(egword)\n"
      ],
      "metadata": {
        "colab": {
          "base_uri": "https://localhost:8080/"
        },
        "id": "SXnkd-sBRleB",
        "outputId": "c302fbff-2318-4821-df68-00edb858566f"
      },
      "execution_count": 4,
      "outputs": [
        {
          "output_type": "stream",
          "name": "stdout",
          "text": [
            "   55900 words loaded.\n",
            "viziers\n"
          ]
        }
      ]
    },
    {
      "cell_type": "code",
      "source": [
        "# I tested the color-coded output\n",
        "print_secret_word('merhaba','mmmmaaa')"
      ],
      "metadata": {
        "colab": {
          "base_uri": "https://localhost:8080/",
          "height": 34
        },
        "id": "8STUBK0HRnRa",
        "outputId": "e98bc9f0-7fe1-4e2f-b4a9-3d9de57943a0"
      },
      "execution_count": 5,
      "outputs": [
        {
          "output_type": "display_data",
          "data": {
            "text/plain": [
              "<__main__.ColorString at 0x7e91f622b410>"
            ],
            "text/html": [
              "<span style=\"color:green;\">m</span> <span>e</span> <span>r</span> <span>h</span> <span style=\"color:green;\">a</span> <span>b</span> <span style=\"color:green;\">a</span> "
            ]
          },
          "metadata": {}
        }
      ]
    },
    {
      "cell_type": "code",
      "source": [
        "# This functions checks if the guessed word is valid.\n",
        "# For the guessed word to be valid, it should have the correct length and should exist in the word list.\n",
        "def isvalid(guess,secretWord):\n",
        "    if guess not in word_list:\n",
        "        return False\n",
        "    if len(secretWord)!=len(guess):\n",
        "      return False\n",
        "    return True\n",
        "\n",
        "# I wrote this function to calculate the score of the player.\n",
        "# I set the score as the product of th word length and rights.\n",
        "def point_calculate(word,right):\n",
        "    return len(word)*right\n",
        "\n",
        "\n",
        "# This functions checks if the guess is correct\n",
        "def guess_control(guess,word):\n",
        "    if guess==word:\n",
        "        return True\n",
        "    else:\n",
        "      return False\n",
        "\n",
        "# This functions prints the length of the secret word.\n",
        "def print_length_of_secretWord(secretWord):\n",
        "  print(f'Secret word have {len(secretWord)} letter')\n"
      ],
      "metadata": {
        "id": "SEzB1KRkRo7_"
      },
      "execution_count": 6,
      "outputs": []
    },
    {
      "cell_type": "code",
      "source": [
        "# Main function of the game:\n",
        "def wordle():\n",
        "    secretWord=word_select()\n",
        "    right=len(secretWord)\n",
        "    print_length_of_secretWord(secretWord)\n",
        "    while True:\n",
        "        time.sleep(1)\n",
        "        guess=input('Enter your guess:')\n",
        "        if guess=='q':\n",
        "          print(f'game over\\nWord was: {secretWord}')\n",
        "          break\n",
        "        if isvalid(guess,secretWord):\n",
        "          if guess_control(guess,secretWord):\n",
        "            print(f'You found the word congrats!!!\\nYour point is: {point_calculate(secretWord,right)}')\n",
        "            break\n",
        "          right-=1\n",
        "          if right==0:\n",
        "            print(f'Failed!!! You have no more rights\\nWord was: {secretWord}')\n",
        "            break\n",
        "          print(f'You have {right} right to guess')\n",
        "          print_secret_word(guess,secretWord)\n",
        "          print('wordle')\n",
        "          continue\n",
        "\n",
        "        else:\n",
        "          print(f'Please enter a valid word...\\nYou have {right} right to guess')\n"
      ],
      "metadata": {
        "id": "EsHX-mU8Rq4v"
      },
      "execution_count": 34,
      "outputs": []
    },
    {
      "cell_type": "code",
      "source": [
        "# Start the game\n",
        "wordle()"
      ],
      "metadata": {
        "colab": {
          "base_uri": "https://localhost:8080/"
        },
        "id": "6EZEKeSdZotn",
        "outputId": "a34fb194-696b-4848-e68a-988220d71f41"
      },
      "execution_count": 43,
      "outputs": [
        {
          "output_type": "stream",
          "name": "stdout",
          "text": [
            "Secret word have 8 letter\n",
            "Enter your guess:q\n",
            "game over\n",
            "Word was: lutetium\n"
          ]
        }
      ]
    }
  ]
}