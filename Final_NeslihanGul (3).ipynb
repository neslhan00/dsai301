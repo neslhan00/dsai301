{
  "nbformat": 4,
  "nbformat_minor": 0,
  "metadata": {
    "colab": {
      "provenance": []
    },
    "kernelspec": {
      "name": "python3",
      "display_name": "Python 3"
    },
    "language_info": {
      "name": "python"
    }
  },
  "cells": [
    {
      "cell_type": "markdown",
      "source": [
        "Neslihan Gül 2021107015"
      ],
      "metadata": {
        "id": "_sbJ14vxM9Q3"
      }
    },
    {
      "cell_type": "markdown",
      "source": [
        "**QUESTION 1**"
      ],
      "metadata": {
        "id": "bW_lYbaOTpkU"
      }
    },
    {
      "cell_type": "markdown",
      "source": [
        "Question 1-a)"
      ],
      "metadata": {
        "id": "ZXOgZErtyg88"
      }
    },
    {
      "cell_type": "code",
      "source": [
        "def get_page(url):\n",
        "    try:\n",
        "        import urllib.request\n",
        "        page = urllib.request.urlopen(url).read()\n",
        "        page = page.decode(\"utf-8\")\n",
        "        return page\n",
        "    except:\n",
        "        return \"\"\n",
        "\n",
        "def get_next_target(page):\n",
        "    start_link = page.find('<a href=')\n",
        "    if start_link == -1:\n",
        "        return None, 0\n",
        "    start_quote = page.find('\"', start_link)\n",
        "    end_quote = page.find('\"', start_quote + 1)\n",
        "    url = page[start_quote + 1:end_quote]\n",
        "    return url, end_quote\n",
        "\n",
        "def get_all_links(page):\n",
        "    links = []\n",
        "    while True:\n",
        "        url, endpos = get_next_target(page)\n",
        "        if url:\n",
        "            links.append(url)\n",
        "            page = page[endpos:]\n",
        "        else:\n",
        "            break\n",
        "    return links\n",
        "\n",
        "def union(p, q):\n",
        "    for e in q:\n",
        "        if e not in p:\n",
        "            p.append(e)\n",
        "\n",
        "def add_toIndex(index, keyword, url):\n",
        "    if keyword in index:\n",
        "        index[keyword].append(url)\n",
        "    else:\n",
        "        index[keyword] = [url]\n",
        "\n",
        "def getclearpage(content):\n",
        "    title = content[content.find(\"<title>\") + 7:content.find(\"</title>\")]\n",
        "    body = content[content.find(\"<body>\") + 6:content.find(\"</body>\")]\n",
        "    while body.find(\">\") != -1:\n",
        "        start = body.find(\"<\")\n",
        "        end = body.find(\">\")\n",
        "        body = body[:start] + body[end + 1:]\n",
        "    return title + body\n",
        "\n",
        "def addPageToIndex(index, url, content):\n",
        "    content = getclearpage(content)\n",
        "    words = content.split()\n",
        "    for word in words:\n",
        "        add_toIndex(index, word, url)\n",
        "\n",
        "def crawlWeb(seed):\n",
        "    tocrawl = [seed]\n",
        "    crawled = []\n",
        "    index = {}\n",
        "    graph = {}\n",
        "    while tocrawl:\n",
        "        page = tocrawl.pop()\n",
        "        if page not in crawled:\n",
        "            content = get_page(page)\n",
        "            addPageToIndex(index, page, content)\n",
        "            outlinks = get_all_links(content)\n",
        "            graph[page] = outlinks\n",
        "            union(tocrawl, outlinks)\n",
        "            crawled.append(page)\n",
        "    return index, graph\n",
        "\n",
        "def lookup(index, keyword):\n",
        "    if keyword in index:\n",
        "        return index[keyword]\n",
        "    else:\n",
        "        return None\n",
        "\n",
        "index1, graph1 = crawlWeb(\"https://searchengineplaces.com.tr/\")\n",
        "\n",
        "\n",
        "# Explanation:\n",
        "# The graph represents the structure of the web as a directed graph.\n",
        "# Each node in the graph is a URL (web page), and corresponding value is a list of other URLs (outlinks) that the page links to.\n",
        "# This structure helps us understand how pages are interconnected."
      ],
      "metadata": {
        "id": "mQ13C7Ats5vn"
      },
      "execution_count": 1,
      "outputs": []
    },
    {
      "cell_type": "markdown",
      "source": [
        "Question 1-b)"
      ],
      "metadata": {
        "id": "xaMsnNW5z_ep"
      }
    },
    {
      "cell_type": "code",
      "source": [
        "print(f\"The graph has {len(graph1)} elements. These are:\")\n",
        "for i, (page, outlinks) in enumerate(graph1.items(), 1):\n",
        "    print(f\"{i}.\\t[{page}] : {outlinks}\")"
      ],
      "metadata": {
        "colab": {
          "base_uri": "https://localhost:8080/"
        },
        "id": "UWJSBmjDz5gN",
        "outputId": "7be45340-405d-454c-a67e-46b66aa55706"
      },
      "execution_count": 15,
      "outputs": [
        {
          "output_type": "stream",
          "name": "stdout",
          "text": [
            "The graph has 10 elements. These are:\n",
            "1.\t[https://searchengineplaces.com.tr/] : ['http://www.searchengineplaces.com.tr/travel_guide.html']\n",
            "2.\t[http://www.searchengineplaces.com.tr/travel_guide.html] : ['http://www.searchengineplaces.com.tr/ankara.html', 'http://www.searchengineplaces.com.tr/konya.html', 'http://www.searchengineplaces.com.tr/istanbul.html', 'http://www.searchengineplaces.com.tr/oktayrecommends.html', 'http://www.searchengineplaces.com.tr/seymarecommends.html']\n",
            "3.\t[http://www.searchengineplaces.com.tr/seymarecommends.html] : ['http://www.searchengineplaces.com.tr/oktayrecommends.html', 'http://www.searchengineplaces.com.tr/konya.html']\n",
            "4.\t[http://www.searchengineplaces.com.tr/oktayrecommends.html] : ['http://www.searchengineplaces.com.tr/istanbul.html']\n",
            "5.\t[http://www.searchengineplaces.com.tr/istanbul.html] : ['http://www.searchengineplaces.com.tr/maidens_tower.html', 'http://www.searchengineplaces.com.tr/galata_tower.html']\n",
            "6.\t[http://www.searchengineplaces.com.tr/galata_tower.html] : ['http://www.searchengineplaces.com.tr/istanbul.html', 'http://www.searchengineplaces.com.tr/travel_guide.html']\n",
            "7.\t[http://www.searchengineplaces.com.tr/maidens_tower.html] : ['http://www.searchengineplaces.com.tr/istanbul.html', 'http://www.searchengineplaces.com.tr/travel_guide.html']\n",
            "8.\t[http://www.searchengineplaces.com.tr/konya.html] : ['http://www.searchengineplaces.com.tr/seymarecommends.html', 'http://www.searchengineplaces.com.tr/mevlana.html']\n",
            "9.\t[http://www.searchengineplaces.com.tr/mevlana.html] : ['http://www.searchengineplaces.com.tr/travel_guide.html']\n",
            "10.\t[http://www.searchengineplaces.com.tr/ankara.html] : []\n"
          ]
        }
      ]
    },
    {
      "cell_type": "markdown",
      "source": [
        "QUESTION 1-c)"
      ],
      "metadata": {
        "id": "Ga1sejz0FY6D"
      }
    },
    {
      "cell_type": "code",
      "source": [
        "def computeRanks(graph):\n",
        "    d = 0.8  # Damping factor\n",
        "    N = len(graph)  # Number of pages\n",
        "    numloops = 10  # Number of iterations to refine ranks\n",
        "    ranks = {}\n",
        "\n",
        "    # Initialize ranks: each page gets an equal share\n",
        "    for page in graph:\n",
        "        ranks[page] = 1 / N\n",
        "\n",
        "    for i in range(numloops):\n",
        "        newranks = {}\n",
        "        for page in graph:\n",
        "            newrank = (1 - d) / N  # Base rank contribution\n",
        "            for node in graph:\n",
        "                if page in graph[node]:\n",
        "                    newrank += d * (ranks[node] / len(graph[node]))\n",
        "            newranks[page] = newrank\n",
        "        ranks = newranks  # Update ranks after each iteration\n",
        "\n",
        "    return ranks\n",
        "\n",
        "ranks1 = computeRanks(graph1)\n",
        "\n",
        "for page, rank in ranks1.items():\n",
        "    print(f\"The rank of the page {page} : {rank}\")"
      ],
      "metadata": {
        "colab": {
          "base_uri": "https://localhost:8080/"
        },
        "id": "FrHxUXWh0G_w",
        "outputId": "dae3a440-6449-47c2-d78d-0af93484d7a8"
      },
      "execution_count": 3,
      "outputs": [
        {
          "output_type": "stream",
          "name": "stdout",
          "text": [
            "The rank of the page https://searchengineplaces.com.tr/ : 0.019999999999999997\n",
            "The rank of the page http://www.searchengineplaces.com.tr/travel_guide.html : 0.14780429869056003\n",
            "The rank of the page http://www.searchengineplaces.com.tr/seymarecommends.html : 0.073060618584064\n",
            "The rank of the page http://www.searchengineplaces.com.tr/oktayrecommends.html : 0.073060618584064\n",
            "The rank of the page http://www.searchengineplaces.com.tr/istanbul.html : 0.17460832634470402\n",
            "The rank of the page http://www.searchengineplaces.com.tr/galata_tower.html : 0.09025810358272002\n",
            "The rank of the page http://www.searchengineplaces.com.tr/maidens_tower.html : 0.09025810358272002\n",
            "The rank of the page http://www.searchengineplaces.com.tr/konya.html : 0.073060618584064\n",
            "The rank of the page http://www.searchengineplaces.com.tr/mevlana.html : 0.04928445079552\n",
            "The rank of the page http://www.searchengineplaces.com.tr/ankara.html : 0.043776167788544\n"
          ]
        }
      ]
    },
    {
      "cell_type": "markdown",
      "source": [
        "QUESTION 1-d)"
      ],
      "metadata": {
        "id": "zwMYMTH5Fid7"
      }
    },
    {
      "cell_type": "code",
      "source": [
        "def rankedLookup(index, keyword, graph):\n",
        "    pages = index.get(keyword, [])\n",
        "    ranks = computeRanks(graph)\n",
        "    unique_pages = set(pages)\n",
        "    return sorted(unique_pages, key=lambda page: ranks.get(page, 0), reverse=True)\n",
        "\n",
        "results = rankedLookup(index1, \"in\", graph1)\n",
        "for result in results:\n",
        "    print(result)"
      ],
      "metadata": {
        "colab": {
          "base_uri": "https://localhost:8080/"
        },
        "id": "gSAdWY3lkvc1",
        "outputId": "605bd02a-7741-45a8-c3b4-3cb7c1dd62ad"
      },
      "execution_count": 4,
      "outputs": [
        {
          "output_type": "stream",
          "name": "stdout",
          "text": [
            "http://www.searchengineplaces.com.tr/istanbul.html\n",
            "http://www.searchengineplaces.com.tr/travel_guide.html\n",
            "http://www.searchengineplaces.com.tr/galata_tower.html\n",
            "http://www.searchengineplaces.com.tr/maidens_tower.html\n",
            "http://www.searchengineplaces.com.tr/konya.html\n",
            "http://www.searchengineplaces.com.tr/mevlana.html\n"
          ]
        }
      ]
    },
    {
      "cell_type": "markdown",
      "source": [
        "QUESTION 1-e)"
      ],
      "metadata": {
        "id": "nv1qioEMFyG6"
      }
    },
    {
      "cell_type": "code",
      "source": [
        "def lookup(index, keyword, *args):\n",
        "    if len(args) == 0:\n",
        "\n",
        "        pages = set(index.get(keyword, []))\n",
        "        return list(pages)\n",
        "    elif len(args) == 2:\n",
        "\n",
        "        graph, computeProcedure = args\n",
        "        ranks = computeProcedure(graph)\n",
        "        pages = set(index.get(keyword, []))\n",
        "        return sorted(pages, key=lambda page: ranks.get(page, 0), reverse=True)\n",
        "    elif len(args) == 1:\n",
        "\n",
        "        return \"Warning: Unexpected number of arguments. Provide either 2 or 4 arguments.\"\n",
        "    else:\n",
        "\n",
        "        raise ValueError(\"Invalid number of arguments provided to the lookup function.\")\n"
      ],
      "metadata": {
        "id": "smlFIJ1gJp2_"
      },
      "execution_count": 5,
      "outputs": []
    },
    {
      "cell_type": "code",
      "source": [
        "see = lookup(index1, \"in\", graph1, computeRanks)\n",
        "for e in see:\n",
        "    print(e)"
      ],
      "metadata": {
        "colab": {
          "base_uri": "https://localhost:8080/"
        },
        "id": "3H1Ru27sG8ww",
        "outputId": "989a681e-b04d-4b05-93e1-0a78cd6f8bd9"
      },
      "execution_count": 6,
      "outputs": [
        {
          "output_type": "stream",
          "name": "stdout",
          "text": [
            "http://www.searchengineplaces.com.tr/istanbul.html\n",
            "http://www.searchengineplaces.com.tr/travel_guide.html\n",
            "http://www.searchengineplaces.com.tr/galata_tower.html\n",
            "http://www.searchengineplaces.com.tr/maidens_tower.html\n",
            "http://www.searchengineplaces.com.tr/konya.html\n",
            "http://www.searchengineplaces.com.tr/mevlana.html\n"
          ]
        }
      ]
    },
    {
      "cell_type": "code",
      "source": [
        "see1 = lookup(index1, \"in\")\n",
        "for e in see1:\n",
        "    print(e)"
      ],
      "metadata": {
        "colab": {
          "base_uri": "https://localhost:8080/"
        },
        "id": "Sw3iJb2Kkf3x",
        "outputId": "f0563229-6e83-4cf3-db39-eeb306ec95c5"
      },
      "execution_count": 38,
      "outputs": [
        {
          "output_type": "stream",
          "name": "stdout",
          "text": [
            "http://www.searchengineplaces.com.tr/konya.html\n",
            "http://www.searchengineplaces.com.tr/galata_tower.html\n",
            "http://www.searchengineplaces.com.tr/istanbul.html\n",
            "http://www.searchengineplaces.com.tr/travel_guide.html\n",
            "http://www.searchengineplaces.com.tr/maidens_tower.html\n",
            "http://www.searchengineplaces.com.tr/mevlana.html\n"
          ]
        }
      ]
    },
    {
      "cell_type": "code",
      "source": [
        "assert rankedLookup(index1, \"in\", graph1) == lookup(index1, \"in\", graph1, computeRanks)"
      ],
      "metadata": {
        "id": "_f_U8x_hKKX9"
      },
      "execution_count": 8,
      "outputs": []
    },
    {
      "cell_type": "markdown",
      "source": [
        "**QUESTION 2**"
      ],
      "metadata": {
        "id": "7q5W26aMmLMS"
      }
    },
    {
      "cell_type": "code",
      "source": [
        "import requests\n",
        "import random"
      ],
      "metadata": {
        "id": "kaxDbT1RmN-M"
      },
      "execution_count": 17,
      "outputs": []
    },
    {
      "cell_type": "code",
      "source": [
        "def download_file_from_drive(file_url, colab_path):\n",
        "    if \"drive.google.com\" in file_url:\n",
        "        file_id = file_url.split('/d/')[1].split('/')[0]\n",
        "        download_url = f\"https://drive.google.com/uc?export=download&id={file_id}\"\n",
        "    else:\n",
        "        raise ValueError(\"The provided URL is not a valid Google Drive link.\")\n",
        "\n",
        "    response = requests.get(download_url, stream=True)\n",
        "\n",
        "    if response.status_code == 200:\n",
        "        with open(colab_path, 'wb') as file:\n",
        "            for chunk in response.iter_content(chunk_size=1024):\n",
        "                if chunk:\n",
        "                    file.write(chunk)\n",
        "        print(f\"File successfully downloaded to {colab_path}\")\n",
        "    else:\n",
        "        raise Exception(\"Failed to download the file. Check the URL or file permissions.\")\n",
        "\n",
        "colab_path = \"/content/words.txt\"\n",
        "file_url = \"https://drive.google.com/file/d/1cjCZ-5uAHVFLXLV6HuSM98_QblWaXrBZ/view?usp=share_link\"\n",
        "download_file_from_drive(file_url,colab_path)\n",
        "\n",
        "\n",
        "WORDLIST_FILENAME = \"words.txt\"\n",
        "\n",
        "def load_words():\n",
        "\n",
        "  inFile = open(WORDLIST_FILENAME, 'r')\n",
        "  line = inFile.readline()\n",
        "  word_list = line.split()\n",
        "  print(\"  \", len(word_list), \"words loaded.\")\n",
        "  return word_list\n",
        "\n",
        "word_list = load_words()"
      ],
      "metadata": {
        "id": "pIn2-7fYmSce",
        "colab": {
          "base_uri": "https://localhost:8080/"
        },
        "outputId": "c248f3e3-8a81-4495-bc1e-90841dd06bde"
      },
      "execution_count": 34,
      "outputs": [
        {
          "output_type": "stream",
          "name": "stdout",
          "text": [
            "File successfully downloaded to /content/words.txt\n",
            "   55900 words loaded.\n"
          ]
        }
      ]
    },
    {
      "cell_type": "code",
      "source": [
        "#Helper functions\n",
        "def word_select(length):\n",
        "    valid_words = [word for word in word_list if len(word) == length]\n",
        "    return random.choice(valid_words)\n",
        "\n",
        "def updatelist1(guess, feedback):\n",
        "    return [word for word in word_list if all(\n",
        "        (feedback[i] == 'g' and word[i] == guess[i]) or\n",
        "        (feedback[i] == 'y' and guess[i] in word and word[i] != guess[i]) or\n",
        "        (feedback[i] == 'b' and guess[i] not in word)\n",
        "        for i in range(len(guess))\n",
        "    )]\n",
        "\n",
        "def updatelist2(guess, feedback):\n",
        "    return [word for word in word_list if sum(\n",
        "        (feedback[i] == 'g' and word[i] == guess[i]) +\n",
        "        (feedback[i] == 'y' and guess[i] in word and word[i] != guess[i]) +\n",
        "        (feedback[i] == 'b' and guess[i] not in word)\n",
        "    ) == len(guess)]\n",
        "\n",
        "def updatelist3(guess, feedback):\n",
        "    remaining_words = []\n",
        "    for word in word_list:\n",
        "        matches = True\n",
        "        for i in range(len(guess)):\n",
        "            if feedback[i] == 'g' and word[i] != guess[i]:\n",
        "                matches = False\n",
        "            elif feedback[i] == 'y' and (guess[i] not in word or word[i] == guess[i]):\n",
        "                matches = False\n",
        "            elif feedback[i] == 'b' and guess[i] in word:\n",
        "                matches = False\n",
        "        if matches:\n",
        "            remaining_words.append(word)\n",
        "    return remaining_words\n",
        "\n",
        "def cleanwordlist(length):\n",
        "    global word_list\n",
        "    word_list = [word for word in word_list if len(word) == length]"
      ],
      "metadata": {
        "id": "bKhc3fqDnpON"
      },
      "execution_count": 30,
      "outputs": []
    },
    {
      "cell_type": "code",
      "source": [
        "def wordle(secret_word, guess):\n",
        "    feedback = []\n",
        "    list1 = [None] * len(secret_word)  # Letters in the correct position\n",
        "    list2 = [None] * len(secret_word)  # Letters in the wrong position.\n",
        "    list3 = []                         # Letters not present in the word.\n",
        "\n",
        "    # Feedback for the guess\n",
        "    for i in range(len(guess)):\n",
        "        if guess[i] == secret_word[i]:\n",
        "            feedback.append('g')\n",
        "            list1[i] = guess[i]  # Update correct letter in the correct position\n",
        "        elif guess[i] in secret_word:\n",
        "            feedback.append('y')\n",
        "            list2[i] = guess[i]  # Update correct letter in the wrong position\n",
        "        else:\n",
        "            feedback.append('b')\n",
        "            if guess[i] not in list3:\n",
        "                list3.append(guess[i])  # Add to letters not in the word\n",
        "\n",
        "    return feedback, list1, list2, list3"
      ],
      "metadata": {
        "id": "JUV5Egy1P04m"
      },
      "execution_count": 31,
      "outputs": []
    },
    {
      "cell_type": "code",
      "source": [
        "def generate_guess(length, list1, list2, list3):\n",
        "    possible_words = word_list\n",
        "\n",
        "    # Filter based on list1\n",
        "    for i, char in enumerate(list1):\n",
        "        if char is not None:  # If we know the correct character at this position\n",
        "            possible_words = [word for word in possible_words if word[i] == char]\n",
        "\n",
        "    # Filter based on list2\n",
        "    for i, char in enumerate(list2):\n",
        "        if char is not None:  # If we know the character is in the word but not in this position\n",
        "            possible_words = [word for word in possible_words if char in word and word[i] != char]\n",
        "\n",
        "    # Filter based on list3\n",
        "    for char in list3:\n",
        "        possible_words = [word for word in possible_words if char not in word]\n",
        "\n",
        "    # Return a random word from the refined list\n",
        "    return random.choice(possible_words) if possible_words else None"
      ],
      "metadata": {
        "id": "pVGRRR5Y8mrs"
      },
      "execution_count": 32,
      "outputs": []
    },
    {
      "cell_type": "code",
      "source": [
        "#OPTIMIZE WORDLE PROCEDURE\n",
        "def optimize_wordle(secret_word):\n",
        "\n",
        "    cleanwordlist(len(secret_word))\n",
        "    attempts = 0\n",
        "    guesses = []\n",
        "    list1 = [None] * len(secret_word)\n",
        "    list2 = [None] * len(secret_word)\n",
        "    list3 = []\n",
        "\n",
        "    while True:\n",
        "        attempts += 1\n",
        "        guess = generate_guess(len(secret_word), list1, list2, list3)\n",
        "\n",
        "        if not guess:\n",
        "            print(\"No valid words left to guess! Unable to complete the game.\")\n",
        "            break\n",
        "\n",
        "        guesses.append(guess)\n",
        "        print(f\"Computer's guess is: {guess}\\n\")\n",
        "\n",
        "        feedback, list1, list2, list3 = wordle(secret_word, guess)\n",
        "\n",
        "        if ''.join(feedback) == 'g' * len(secret_word):  # If all positions are correct\n",
        "            print(f\"The computer guessed the word in {attempts} attempts.\")\n",
        "            print(f\"List of the computer's guesses: {guesses}\")\n",
        "            break\n",
        "\n",
        "# Example of calling the function\n",
        "secret_word = \"gong\"\n",
        "optimize_wordle(secret_word)"
      ],
      "metadata": {
        "id": "I6lKZgZQn9H2",
        "colab": {
          "base_uri": "https://localhost:8080/"
        },
        "outputId": "f7005ad7-a3b1-45cb-a55a-27427479259b"
      },
      "execution_count": 37,
      "outputs": [
        {
          "output_type": "stream",
          "name": "stdout",
          "text": [
            "Computer's guess is: quiz\n",
            "\n",
            "Computer's guess is: bash\n",
            "\n",
            "Computer's guess is: vote\n",
            "\n",
            "Computer's guess is: dodo\n",
            "\n",
            "Computer's guess is: coop\n",
            "\n",
            "Computer's guess is: holy\n",
            "\n",
            "Computer's guess is: mown\n",
            "\n",
            "Computer's guess is: pone\n",
            "\n",
            "Computer's guess is: song\n",
            "\n",
            "Computer's guess is: bong\n",
            "\n",
            "Computer's guess is: gong\n",
            "\n",
            "The computer guessed the word in 11 attempts.\n",
            "List of the computer's guesses: ['quiz', 'bash', 'vote', 'dodo', 'coop', 'holy', 'mown', 'pone', 'song', 'bong', 'gong']\n"
          ]
        }
      ]
    }
  ]
}